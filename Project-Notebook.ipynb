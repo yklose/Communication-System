{
 "cells": [
  {
   "cell_type": "markdown",
   "metadata": {},
   "source": [
    "## PDC Project\n",
    "This project aims to create a transmitter and reciever that is able to reconstruct a message that was exposed by a channel effect."
   ]
  },
  {
   "cell_type": "code",
   "execution_count": null,
   "metadata": {},
   "outputs": [],
   "source": [
    "import client\n",
    "import channel_helper\n",
    "import transmitter\n",
    "import reciever\n",
    "\n",
    "import matplotlib.pyplot as plt\n",
    "import numpy as np"
   ]
  },
  {
   "cell_type": "markdown",
   "metadata": {},
   "source": [
    "### Transmitter\n",
    "The Transmitter first creates a codeword based on the 8 Bit Ascii table. For bit syncronization a predefined pattern consisting of 8 Bit with value of 1 is used. After that the codeword is transformed into a waveform. The basis function of the waveform former is a root raised cosine function. Furthermore the value 0 in the bit sequence is replaced by -1 for a better error probability. Finally the signal is shifted in the frequency domain in order to fit the requirements of the Channel-Effect."
   ]
  },
  {
   "cell_type": "code",
   "execution_count": null,
   "metadata": {},
   "outputs": [],
   "source": [
    "%%time \n",
    "transmitter.run()"
   ]
  },
  {
   "cell_type": "markdown",
   "metadata": {},
   "source": [
    "### Channel Effect"
   ]
  },
  {
   "cell_type": "code",
   "execution_count": null,
   "metadata": {},
   "outputs": [],
   "source": [
    "!python client.py --input_file=passband.txt --output_file=output.txt --srv_hostname=iscsrv72.epfl.ch --srv_port=80"
   ]
  },
  {
   "cell_type": "markdown",
   "metadata": {},
   "source": [
    "### Reciever\n",
    "The Reciever takes the noisy version of the signal and first shift it back to the original frequency. After that a lowpass filter is applied with is then used to filter the noise. Because the channel applies a delay on the sequence the starting position is determined by using a convolution for the bit sequence consisting of 8 pulses with itensity 1. After that the inner product is computed to reconstruct the message using a matched filter. "
   ]
  },
  {
   "cell_type": "code",
   "execution_count": null,
   "metadata": {},
   "outputs": [],
   "source": [
    "%%time\n",
    "reciever.run()"
   ]
  },
  {
   "cell_type": "markdown",
   "metadata": {},
   "source": [
    "### Plots\n",
    "In the following part the plots of the passband signal (what is send to the server) and the output of the server is shown. "
   ]
  },
  {
   "cell_type": "code",
   "execution_count": null,
   "metadata": {},
   "outputs": [],
   "source": [
    "def compute_array(datapath):\n",
    "    f = open(datapath, 'r')\n",
    "    array = f.read().split('\\n')\n",
    "    length = len(array)\n",
    "    plot_array = array[:(length-1)]\n",
    "    \n",
    "    \n",
    "    plot_array = list(map(float, plot_array))\n",
    "    return plot_array\n"
   ]
  },
  {
   "cell_type": "code",
   "execution_count": null,
   "metadata": {},
   "outputs": [],
   "source": [
    "fig, ax = plt.subplots(2, figsize=(20,10))\n",
    "\n",
    "passband = compute_array(\"passband.txt\")\n",
    "output = compute_array(\"output.txt\")\n",
    "\n",
    "\n",
    "\n",
    "ax[0].plot(passband)\n",
    "ax[0].set_title('Passband')\n",
    "ax[1].plot(output)\n",
    "ax[1].set_title('Output')\n",
    "\n",
    "\n",
    "\n",
    "plt.show()"
   ]
  },
  {
   "cell_type": "markdown",
   "metadata": {},
   "source": [
    "### TESTS"
   ]
  },
  {
   "cell_type": "code",
   "execution_count": null,
   "metadata": {},
   "outputs": [],
   "source": [
    "temp6 = compute_array(\"test1.txt\")\n",
    "plt.figure(figsize=(40,10))\n",
    "plt.plot(temp6)\n",
    "\n",
    "plt.show"
   ]
  },
  {
   "cell_type": "code",
   "execution_count": null,
   "metadata": {},
   "outputs": [],
   "source": [
    "temp6 = compute_array(\"test2.txt\")\n",
    "plt.figure(figsize=(40,10))\n",
    "plt.plot(temp6)\n",
    "plt.show"
   ]
  },
  {
   "cell_type": "code",
   "execution_count": null,
   "metadata": {},
   "outputs": [],
   "source": []
  }
 ],
 "metadata": {
  "kernelspec": {
   "display_name": "Python 3",
   "language": "python",
   "name": "python3"
  },
  "language_info": {
   "codemirror_mode": {
    "name": "ipython",
    "version": 3
   },
   "file_extension": ".py",
   "mimetype": "text/x-python",
   "name": "python",
   "nbconvert_exporter": "python",
   "pygments_lexer": "ipython3",
   "version": "3.6.5"
  }
 },
 "nbformat": 4,
 "nbformat_minor": 2
}
